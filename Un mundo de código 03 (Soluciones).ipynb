{
 "cells": [
  {
   "cell_type": "markdown",
   "metadata": {},
   "source": [
    "# Un mundo de código 03"
   ]
  },
  {
   "cell_type": "markdown",
   "metadata": {},
   "source": [
    "3.1. Escribir funciones que resuelvan los siguientes problemas:"
   ]
  },
  {
   "cell_type": "markdown",
   "metadata": {},
   "source": [
    "a) Dado un número entero n, indicar si es o no par."
   ]
  },
  {
   "cell_type": "code",
   "execution_count": null,
   "metadata": {
    "collapsed": true
   },
   "outputs": [],
   "source": [
    "def par(n):\n",
    "    return n % 2 == 0"
   ]
  },
  {
   "cell_type": "code",
   "execution_count": null,
   "metadata": {
    "collapsed": false
   },
   "outputs": [],
   "source": [
    "print (par(1))\n",
    "print (par(2))\n",
    "print (par(0))\n",
    "print (par(34))\n",
    "print (par(47))"
   ]
  },
  {
   "cell_type": "markdown",
   "metadata": {},
   "source": [
    "b) Dado un número entero n, indicar si es o no primo."
   ]
  },
  {
   "cell_type": "code",
   "execution_count": null,
   "metadata": {
    "collapsed": false
   },
   "outputs": [],
   "source": [
    "def primo(n):\n",
    "    from math import sqrt\n",
    "    if n==0:\n",
    "        return False\n",
    "    elif n==1 or n==2:\n",
    "        return True\n",
    "    else:\n",
    "        primo = True\n",
    "        for i in range(2,int(sqrt(n)+1)+1,2):\n",
    "            if n % i == 0:\n",
    "                primo = False\n",
    "                break\n",
    "        return primo"
   ]
  },
  {
   "cell_type": "code",
   "execution_count": null,
   "metadata": {
    "collapsed": false
   },
   "outputs": [],
   "source": [
    "print(0, primo(0))\n",
    "print(1, primo(1))\n",
    "print(2, primo(2))\n",
    "print(3, primo(3))\n",
    "print(4, primo(4))\n",
    "print(100, primo(100))\n",
    "print(101, primo(101))"
   ]
  },
  {
   "cell_type": "markdown",
   "metadata": {},
   "source": [
    "3.2. Escribir una implementación propia de la función abs, que devuelva el valor absoluto de cualquier valor que reciba."
   ]
  },
  {
   "cell_type": "code",
   "execution_count": null,
   "metadata": {
    "collapsed": true
   },
   "outputs": [],
   "source": [
    "def abs(n):\n",
    "    if n < 0:\n",
    "        n = -n\n",
    "    return n"
   ]
  },
  {
   "cell_type": "code",
   "execution_count": null,
   "metadata": {
    "collapsed": false
   },
   "outputs": [],
   "source": [
    "print(abs(39))\n",
    "print(abs(-23))"
   ]
  },
  {
   "cell_type": "markdown",
   "metadata": {},
   "source": [
    "3.3. Escribir un programa que reciba una a una las notas del usuario, preguntando a cada paso si desea ingresar más notas, e imprimiendo el promedio correspondiente."
   ]
  },
  {
   "cell_type": "code",
   "execution_count": null,
   "metadata": {
    "collapsed": false
   },
   "outputs": [],
   "source": [
    "print (\"Introduzca sus notas\")\n",
    "print (\"====================\")\n",
    "i = 0\n",
    "total = 0\n",
    "masNotas = True\n",
    "while masNotas:\n",
    "    leyendo = True\n",
    "    while leyendo:\n",
    "        try:\n",
    "           n = float(input(\"Introduzca nota :\"))\n",
    "           leyendo = False\n",
    "        except:\n",
    "           print(\"Introduzca un valor numérico\")\n",
    "    total += n\n",
    "    i += 1\n",
    "    leyendo = True\n",
    "    while leyendo:\n",
    "        respuesta = input(\"¿Otra nota? (S/N)\")\n",
    "        if respuesta in \"SNsn\":\n",
    "            leyendo = False\n",
    "    if respuesta in \"Nn\":\n",
    "        masNotas = False\n",
    "print(\"Su promedio es de\", total / i,\"puntos\")"
   ]
  },
  {
   "cell_type": "markdown",
   "metadata": {},
   "source": [
    "3.4. Escribir una función que reciba un número entero k e imprima su descomposición en factores primos."
   ]
  },
  {
   "cell_type": "code",
   "execution_count": null,
   "metadata": {
    "collapsed": true
   },
   "outputs": [],
   "source": [
    "def factPrimos(n):\n",
    "    i = 2\n",
    "    print(1)\n",
    "    while n >= i:\n",
    "        if n % i == 0:\n",
    "            print(i)\n",
    "            n//=i\n",
    "        else:\n",
    "            i+=1"
   ]
  },
  {
   "cell_type": "code",
   "execution_count": null,
   "metadata": {
    "collapsed": false
   },
   "outputs": [],
   "source": [
    "factPrimos(0)\n",
    "print()\n",
    "factPrimos(1)\n",
    "print()\n",
    "factPrimos(2)\n",
    "print()\n",
    "factPrimos(3)\n",
    "print()\n",
    "factPrimos(12)\n",
    "print()\n",
    "factPrimos(13)"
   ]
  },
  {
   "cell_type": "markdown",
   "metadata": {},
   "source": [
    "3.5. Manejo de contraseñas"
   ]
  },
  {
   "cell_type": "markdown",
   "metadata": {},
   "source": [
    "a) Escribir un programa que contenga una contraseña inventada, que le pregunte al usuario la contraseña, y no le permita continuar hasta que la haya ingresado correctamente."
   ]
  },
  {
   "cell_type": "code",
   "execution_count": null,
   "metadata": {
    "collapsed": false
   },
   "outputs": [],
   "source": [
    "contrasena = \"contra\"\n",
    "while True:\n",
    "    con = input(\"Contraseña : \")\n",
    "    if con == contrasena:\n",
    "        print (\"Contraseña correcta\")\n",
    "        break\n",
    "    else:\n",
    "        print(\"Contraseña errónea\")"
   ]
  },
  {
   "cell_type": "markdown",
   "metadata": {},
   "source": [
    "b) Modificar el programa anterior para que solamente permita una cantidad fija de intentos."
   ]
  },
  {
   "cell_type": "code",
   "execution_count": null,
   "metadata": {
    "collapsed": false
   },
   "outputs": [],
   "source": [
    "contrasena = \"contra\"\n",
    "intentos = 3\n",
    "while intentos:\n",
    "    con = input(\"Contraseña : \")\n",
    "    if con == contrasena:\n",
    "        print (\"Contraseña correcta\")\n",
    "        break\n",
    "    else:\n",
    "        print(\"Contraseña errónea\")\n",
    "        intentos -=1"
   ]
  },
  {
   "cell_type": "markdown",
   "metadata": {},
   "source": [
    "c) Modificar el programa anterior para que después de cada intento agregue una pausa cada vez mayor, utilizando la función sleep del módulo time."
   ]
  },
  {
   "cell_type": "code",
   "execution_count": null,
   "metadata": {
    "collapsed": true
   },
   "outputs": [],
   "source": [
    "from time import sleep\n",
    "contrasena = \"contra\"\n",
    "maxIntentos = 5\n",
    "intentos = maxIntentos\n",
    "while intentos != 0:\n",
    "    con = input(\"Contraseña : \")\n",
    "    if con == contrasena:\n",
    "        print (\"Contraseña correcta\")\n",
    "        break\n",
    "    else:\n",
    "        print(\"Contraseña errónea\")\n",
    "        intentos -=1\n",
    "        if intentos > 0:\n",
    "            sleep(10-int(10/maxIntentos*intentos))"
   ]
  },
  {
   "cell_type": "markdown",
   "metadata": {},
   "source": [
    "d) Modificar el programa anterior para que sea una función que devuelva si el usuario ingresó o no la contraseña correctamente, mediante un valor booleano (True o False)."
   ]
  },
  {
   "cell_type": "code",
   "execution_count": null,
   "metadata": {
    "collapsed": true
   },
   "outputs": [],
   "source": [
    "def passwords():\n",
    "    from time import sleep\n",
    "    contrasena = \"contra\"\n",
    "    maxIntentos = 5\n",
    "    intentos = maxIntentos\n",
    "    while intentos != 0:\n",
    "        con = input(\"Contraseña : \")\n",
    "        if con == contrasena:\n",
    "            print (\"Contraseña correcta\")\n",
    "            return True\n",
    "        else:\n",
    "            print(\"Contraseña errónea\")\n",
    "            intentos -=1\n",
    "            if intentos > 0:\n",
    "                sleep(10-int(10/maxIntentos*intentos))\n",
    "    return False"
   ]
  },
  {
   "cell_type": "code",
   "execution_count": null,
   "metadata": {
    "collapsed": false
   },
   "outputs": [],
   "source": [
    "print(passwords())"
   ]
  },
  {
   "cell_type": "markdown",
   "metadata": {},
   "source": [
    "3.6. Utilizando la función randrange del módulo random, escribir un programa que obtenga un número aleatorio secreto, y luego permita al usuario ingresar números y le indique sin son menores o mayores que el número a adivinar, hasta que el usuario ingrese el número correcto."
   ]
  },
  {
   "cell_type": "code",
   "execution_count": null,
   "metadata": {
    "collapsed": false
   },
   "outputs": [],
   "source": [
    "from random import randrange\n",
    "n = randrange(10)\n",
    "while True:\n",
    "    leyendo = True\n",
    "    while leyendo:\n",
    "        try:\n",
    "           adivina = int(input(\"Adivina el número: \"))\n",
    "           leyendo = False\n",
    "        except:\n",
    "           print(\"Introduzca un valor numérico\")\n",
    "    if adivina == n:\n",
    "        print(\"¡¡ Ese es !!\")\n",
    "        break\n",
    "    elif adivina < n:\n",
    "        print(\"El número es más alto\")\n",
    "    else:\n",
    "        print(\"El número es más bajo\")"
   ]
  },
  {
   "cell_type": "markdown",
   "metadata": {},
   "source": [
    "3.7. Algoritmo de Euclides\n",
    "\n",
    "Implementar en python el algoritmo de Euclides para calcular el máximo común divisor de dos números n y m, dado por los siguientes pasos.\n",
    "\n",
    "Teniendo n y m, se obtiene r, el resto de la división entera de m/n.\n",
    "Si r es cero, n es el mcd de los valores iniciales.\n",
    "Se reemplaza m ← n, n ← r, y se vuelve al primer paso.\n",
    "Hacer un seguimiento del algoritmo implementado para los siguientes pares de números: (15,9);(9,15); (10,8); (12,6)."
   ]
  },
  {
   "cell_type": "code",
   "execution_count": null,
   "metadata": {
    "collapsed": true
   },
   "outputs": [],
   "source": [
    "def euclides(m,n):\n",
    "    if m < n:\n",
    "        cambio = m\n",
    "        m = n\n",
    "        n = cambio\n",
    "    r = m % n\n",
    "    while r != 0:\n",
    "        m = n\n",
    "        n = r\n",
    "        r = m % n\n",
    "    return n"
   ]
  },
  {
   "cell_type": "code",
   "execution_count": null,
   "metadata": {
    "collapsed": false
   },
   "outputs": [],
   "source": [
    "print (euclides(15,9), euclides(9,15), euclides(10,8), euclides(12,6))"
   ]
  },
  {
   "cell_type": "markdown",
   "metadata": {},
   "source": [
    "3.8. Potencias de dos.\n",
    "\n",
    "a) Escribir una función es_potencia_de_dos que reciba como parámetro un número natural, y devuelva True si el número es una potencia de 2, y False en caso contrario."
   ]
  },
  {
   "cell_type": "code",
   "execution_count": null,
   "metadata": {
    "collapsed": true
   },
   "outputs": [],
   "source": [
    "def es_potencia_de_dos(n):\n",
    "    while n != 1:\n",
    "        if (n % 2) == 0:\n",
    "            n = n / 2\n",
    "        else:\n",
    "            return False\n",
    "    return True"
   ]
  },
  {
   "cell_type": "code",
   "execution_count": null,
   "metadata": {
    "collapsed": true
   },
   "outputs": [],
   "source": [
    "def es_potencia_de_dos_2(n):\n",
    "    from math import log2\n",
    "    exp = log2(n)\n",
    "    return (exp == int(exp))"
   ]
  },
  {
   "cell_type": "code",
   "execution_count": null,
   "metadata": {
    "collapsed": false
   },
   "outputs": [],
   "source": [
    "print (es_potencia_de_dos(1), es_potencia_de_dos_2(1))\n",
    "print (es_potencia_de_dos(2), es_potencia_de_dos_2(2))\n",
    "print (es_potencia_de_dos(59), es_potencia_de_dos_2(59))\n",
    "print (es_potencia_de_dos(256), es_potencia_de_dos_2(256))"
   ]
  },
  {
   "cell_type": "markdown",
   "metadata": {},
   "source": [
    "b) Escribir una función que, dados dos números naturales pasados como parámetros, devuelva la suma de todas las potencias de 2 que hay en el rango formado por esos números (0 si no hay ninguna potencia de 2 entre los dos). Utilizar la función es_potencia_de_dos, descrita en el punto anterior."
   ]
  },
  {
   "cell_type": "code",
   "execution_count": null,
   "metadata": {
    "collapsed": true
   },
   "outputs": [],
   "source": [
    "def suma_potencias_de_2(a,b):\n",
    "    suma = 0\n",
    "    for n in range(a,b+1):\n",
    "        if es_potencia_de_dos(n):\n",
    "            suma += n\n",
    "    return suma"
   ]
  },
  {
   "cell_type": "code",
   "execution_count": null,
   "metadata": {
    "collapsed": false
   },
   "outputs": [],
   "source": [
    "print (suma_potencias_de_2(6,15))\n",
    "print (suma_potencias_de_2(17,30))"
   ]
  },
  {
   "cell_type": "markdown",
   "metadata": {},
   "source": [
    "3.9. Números perfectos y números amigos"
   ]
  },
  {
   "cell_type": "markdown",
   "metadata": {},
   "source": [
    "a) Escribir una función que devuelva la suma de todos los divisores de un número n, sin incluirlo."
   ]
  },
  {
   "cell_type": "code",
   "execution_count": null,
   "metadata": {
    "collapsed": true
   },
   "outputs": [],
   "source": [
    "def suma_divisores (n):\n",
    "    from math import sqrt\n",
    "    suma = 1\n",
    "    for i in range(2,n//2+1):\n",
    "        if n % i == 0:\n",
    "            suma+=i\n",
    "    return suma"
   ]
  },
  {
   "cell_type": "code",
   "execution_count": null,
   "metadata": {
    "collapsed": false
   },
   "outputs": [],
   "source": [
    "print (suma_divisores (6))\n",
    "print (suma_divisores (1))\n",
    "print (suma_divisores (0))"
   ]
  },
  {
   "cell_type": "markdown",
   "metadata": {},
   "source": [
    "b) Usando la función anterior, escribir una función que imprima los primeros m números tales que la suma de sus divisores sea igual a sí mismo (es decir los primeros m números perfectos)."
   ]
  },
  {
   "cell_type": "code",
   "execution_count": null,
   "metadata": {
    "collapsed": true
   },
   "outputs": [],
   "source": [
    "def perfecto(m):\n",
    "    n = 1\n",
    "    for i in range(m):\n",
    "        while n != suma_divisores(n):\n",
    "            n += 1\n",
    "        print(n)\n",
    "        n += 1"
   ]
  },
  {
   "cell_type": "code",
   "execution_count": null,
   "metadata": {
    "collapsed": false
   },
   "outputs": [],
   "source": [
    "perfecto(5)"
   ]
  },
  {
   "cell_type": "markdown",
   "metadata": {},
   "source": [
    "c) Usando la primera función, escribir una función que imprima las primeras m parejas de números(a,b), tales que la suma de los divisores de a es igual a b y la suma de los divisores de b es igual a a(es decir las primeras m parejas de números amigos)."
   ]
  },
  {
   "cell_type": "code",
   "execution_count": null,
   "metadata": {
    "collapsed": true
   },
   "outputs": [],
   "source": [
    "def perfectos(m):\n",
    "    a = 0\n",
    "    for i in range(m):        \n",
    "        while True:\n",
    "            a+=1\n",
    "            b = suma_divisores(a)\n",
    "            if suma_divisores(b)==a and a!=b and a < b :\n",
    "                print(a,b)\n",
    "                break"
   ]
  },
  {
   "cell_type": "code",
   "execution_count": null,
   "metadata": {
    "collapsed": false
   },
   "outputs": [],
   "source": [
    "perfectos(6)"
   ]
  },
  {
   "cell_type": "markdown",
   "metadata": {},
   "source": [
    "d) Proponer optimizaciones a las funciones anteriores para disminuir el tiempo de ejecución."
   ]
  },
  {
   "cell_type": "markdown",
   "metadata": {},
   "source": [
    "3.10. Escribir un programa que le pida al usuario que ingrese una sucesión de números naturales (primero uno, luego otro, y así hasta que el usuario ingrese -1 como condición de salida). Al final, el programa debe imprimir cuántos números fueron ingresados, la suma total de los valores y el promedio."
   ]
  },
  {
   "cell_type": "code",
   "execution_count": null,
   "metadata": {
    "collapsed": false
   },
   "outputs": [],
   "source": [
    "i = 0\n",
    "total = 0\n",
    "while True:\n",
    "    leyendo = True\n",
    "    while leyendo:\n",
    "        try:\n",
    "            n = float(input(\"Introduzca un número :\"))\n",
    "            leyendo = False\n",
    "        except:\n",
    "            print(\"Introduzca un valor numérico\")\n",
    "    if n == -1:\n",
    "        break\n",
    "    else:\n",
    "        total += n\n",
    "        i += 1\n",
    "print(\"Se ingresaron\",i,\"números que suman\",total,\"y tienen de promedio\", total/i)"
   ]
  },
  {
   "cell_type": "markdown",
   "metadata": {},
   "source": [
    "3.11. Escribir una función que reciba dos números como parámetros, y devuelva cuántos múltiplos del primero hay, que sean menores que el segundo."
   ]
  },
  {
   "cell_type": "markdown",
   "metadata": {},
   "source": [
    "a) Implementarla utilizando un ciclo for, desde el primer número hasta el segundo."
   ]
  },
  {
   "cell_type": "code",
   "execution_count": null,
   "metadata": {
    "collapsed": false
   },
   "outputs": [],
   "source": [
    "def numMulFor(m,n):\n",
    "    numMul = 0\n",
    "    for i in range(m,n+1):\n",
    "        if i % m == 0:\n",
    "            numMul += 1\n",
    "    return numMul"
   ]
  },
  {
   "cell_type": "code",
   "execution_count": null,
   "metadata": {
    "collapsed": false
   },
   "outputs": [],
   "source": [
    "print (numMulFor(12,360))"
   ]
  },
  {
   "cell_type": "markdown",
   "metadata": {},
   "source": [
    "b) Implementarla utilizando un ciclo while, que multiplique el primer número hasta que sea mayor que el segundo."
   ]
  },
  {
   "cell_type": "code",
   "execution_count": null,
   "metadata": {
    "collapsed": false
   },
   "outputs": [],
   "source": [
    "def num_mul(m,n):\n",
    "    i=1\n",
    "    mul = m\n",
    "    while mul <= n:\n",
    "        i += 1\n",
    "        mul *= i\n",
    "    return (i-1)   "
   ]
  },
  {
   "cell_type": "code",
   "execution_count": null,
   "metadata": {
    "collapsed": false
   },
   "outputs": [],
   "source": [
    "print (numMulFor(12,360))"
   ]
  },
  {
   "cell_type": "markdown",
   "metadata": {},
   "source": [
    "c) Comparar ambas implementaciones: ¿Cuál es más clara? ¿Cuál realiza menos operaciones?"
   ]
  },
  {
   "cell_type": "markdown",
   "metadata": {
    "collapsed": true
   },
   "source": [
    "###### La primera es más clara pero la segunda es manifiestamente más rápida."
   ]
  },
  {
   "cell_type": "markdown",
   "metadata": {},
   "source": [
    "3.12. Escribir una función que reciba un número natural e imprima todos los números primos que hay hasta ese número."
   ]
  },
  {
   "cell_type": "code",
   "execution_count": null,
   "metadata": {
    "collapsed": false
   },
   "outputs": [],
   "source": [
    "def primos(n):\n",
    "    print (1)\n",
    "    if n>=2:\n",
    "        print (2)\n",
    "    for i in range(3,n+1):\n",
    "        primo = True\n",
    "        for j in range(2,i):\n",
    "            if i%j == 0:\n",
    "                primo = False\n",
    "                break\n",
    "        if primo:\n",
    "            print(i)"
   ]
  },
  {
   "cell_type": "code",
   "execution_count": null,
   "metadata": {
    "collapsed": false
   },
   "outputs": [],
   "source": [
    "primos(20)"
   ]
  },
  {
   "cell_type": "markdown",
   "metadata": {},
   "source": [
    "3.13. Escribir una función que reciba un dígito y un número natural, y decida numéricamente si el dígito se encuentra en la notación decimal del segundo."
   ]
  },
  {
   "cell_type": "code",
   "execution_count": null,
   "metadata": {
    "collapsed": true
   },
   "outputs": [],
   "source": [
    "def digitoEn(d,n):\n",
    "    while n:\n",
    "        if n%10 == d:\n",
    "            return True\n",
    "        n = n // 10\n",
    "    return False"
   ]
  },
  {
   "cell_type": "code",
   "execution_count": null,
   "metadata": {
    "collapsed": false
   },
   "outputs": [],
   "source": [
    "print(digitoEn(7,89343733), digitoEn(7,0), digitoEn(7,7), digitoEn(7,700), digitoEn(7,897), digitoEn(7,8980))"
   ]
  },
  {
   "cell_type": "markdown",
   "metadata": {},
   "source": [
    "3.14. Escribir una función que dada la cantidad de ejercicios de un examen, y el porcentaje necesario de ejercicios bien resueltos necesario para aprobar dicho examen, revise un grupo de examenes. Para ello, en cada paso debe preguntar la cantidad de ejercicios resueltos por el alumno, indicando con un valor centinela que no hay más examenes a revisar. Debe mostrar por pantalla el porcentaje correspondiente a la cantidad de ejercicios resueltos respecto a la cantidad de ejercicios del examen y una leyenda que indique si aprobó o no."
   ]
  },
  {
   "cell_type": "code",
   "execution_count": null,
   "metadata": {
    "collapsed": false
   },
   "outputs": [],
   "source": [
    "def examen(numEje, porcentaje):\n",
    "    while True:\n",
    "        leyendo = True\n",
    "        while leyendo:\n",
    "            try:\n",
    "                resueltos = float(input(\"Número de ejercicios resueltos (-1 para terminar): \"))\n",
    "                leyendo = False\n",
    "            except:\n",
    "                print(\"Introduzca una cantidad numérica\")\n",
    "        if resueltos == -1:\n",
    "            return\n",
    "        else:\n",
    "            nota = 100/numEje * resueltos\n",
    "            print(\"El % de ejercicios resueltos es\", 100/numEje * resueltos)\n",
    "            if nota < porcentaje:\n",
    "                print(\"Suspendido\")\n",
    "            else:\n",
    "                print(\"Aprobado\")"
   ]
  },
  {
   "cell_type": "code",
   "execution_count": null,
   "metadata": {
    "collapsed": false
   },
   "outputs": [],
   "source": [
    "examen(50, 25)"
   ]
  },
  {
   "cell_type": "markdown",
   "metadata": {},
   "source": [
    "3.15. Escribir una función que reciba por parámetro una dimensión n, e imprima la matriz identidad correspondiente a esa dimensión."
   ]
  },
  {
   "cell_type": "code",
   "execution_count": null,
   "metadata": {
    "collapsed": true
   },
   "outputs": [],
   "source": [
    "def matrizIdentidad(m):\n",
    "    for i in range(m):\n",
    "        linea = \"\"\n",
    "        for j in range(m):\n",
    "            if i!=j:\n",
    "                linea += \"0 \"\n",
    "            else:\n",
    "                linea += \"1 \"\n",
    "        print(linea)"
   ]
  },
  {
   "cell_type": "code",
   "execution_count": null,
   "metadata": {
    "collapsed": false
   },
   "outputs": [],
   "source": [
    "matrizIdentidad (10)"
   ]
  },
  {
   "cell_type": "markdown",
   "metadata": {},
   "source": [
    "3.16. Escribir funciones que permitan encontrar:"
   ]
  },
  {
   "cell_type": "markdown",
   "metadata": {},
   "source": [
    "a) El máximo o mínimo de un polinomio de segundo grado (dados los coeficientes a, b y c), indicando si es un máximo o un mínimo. http://es.wikihow.com/encontrar-f%C3%A1cilmente-el-valor-m%C3%A1ximo-o-m%C3%ADnimo-de-una-funci%C3%B3n-cuadr%C3%A1tica"
   ]
  },
  {
   "cell_type": "code",
   "execution_count": null,
   "metadata": {
    "collapsed": false
   },
   "outputs": [],
   "source": [
    "def maxmin(a,b,c):\n",
    "    if a > 0:\n",
    "        return (-(b**2)/(4*a) + c , \"máximo\")\n",
    "    else:\n",
    "        return (-(b**2)/(4*a) + c , \"mínimo\")"
   ]
  },
  {
   "cell_type": "code",
   "execution_count": null,
   "metadata": {
    "collapsed": false
   },
   "outputs": [],
   "source": [
    "(valor,Mm) = maxmin(-1,1,1)\n",
    "print (\"Es un\", Mm, \"y su valor es\", valor)"
   ]
  },
  {
   "cell_type": "markdown",
   "metadata": {},
   "source": [
    "b) Las raíces (reales o complejas) de un polinomio de segundo grado. Nota: validar que las operaciones puedan efectuarse antes de realizarlas (no dividir por cero, ni calcular la raiz de un número negativo)."
   ]
  },
  {
   "cell_type": "code",
   "execution_count": null,
   "metadata": {
    "collapsed": false
   },
   "outputs": [],
   "source": [
    "def raices(a,b,c):\n",
    "    h = b*b - 4*a*c\n",
    "    if h<0:\n",
    "        imaginaria = True\n",
    "        h = -h\n",
    "    else:\n",
    "        imaginaria = False\n",
    "    rh = h ** (1/2)\n",
    "    if imaginaria:\n",
    "        r1r = -b/(2*a)\n",
    "        r1i = rh/(2*a)\n",
    "        r2r = r1r\n",
    "        r2i = -r1i\n",
    "    else:\n",
    "        r1r = (-b + rh)/(2*a)\n",
    "        r1i = 0\n",
    "        r2r = (-b - rh)/(2*a)\n",
    "        r2i = 0\n",
    "    return (r1r,r1i,r2r,r2i)"
   ]
  },
  {
   "cell_type": "markdown",
   "metadata": {},
   "source": [
    "c) La intersección de dos rectas (dadas las pendientes y ordenada al origen de cada recta). Nota: validar que no sean dos rectas con la misma pendiente, antes de efectuar la operación."
   ]
  },
  {
   "cell_type": "code",
   "execution_count": null,
   "metadata": {
    "collapsed": false
   },
   "outputs": [],
   "source": [
    "print (raices(1,-5,6))"
   ]
  },
  {
   "cell_type": "markdown",
   "metadata": {},
   "source": [
    "3.17. Escribir funciones que resuelvan los siguientes problemas:"
   ]
  },
  {
   "cell_type": "markdown",
   "metadata": {},
   "source": [
    "a) Dado un año indicar si es bisiesto. Nota: un año es bisiesto si es un número divisible por 4, pero no si es divisible por 100, excepto que también sea divisible por 400."
   ]
  },
  {
   "cell_type": "code",
   "execution_count": null,
   "metadata": {
    "collapsed": false
   },
   "outputs": [],
   "source": [
    "def bisiesto(anio):\n",
    "    if anio % 4:\n",
    "        return False\n",
    "    else:\n",
    "        if anio % 100:\n",
    "            return True\n",
    "        else:\n",
    "            if anio % 400:\n",
    "                return False\n",
    "            else:\n",
    "                return True"
   ]
  },
  {
   "cell_type": "code",
   "execution_count": null,
   "metadata": {
    "collapsed": false
   },
   "outputs": [],
   "source": [
    "print (bisiesto(2017), bisiesto(2016), bisiesto(1800), bisiesto(2000))"
   ]
  },
  {
   "cell_type": "markdown",
   "metadata": {},
   "source": [
    "b) Dado un mes, devolver la cantidad de dias correspondientes."
   ]
  },
  {
   "cell_type": "code",
   "execution_count": null,
   "metadata": {
    "collapsed": false
   },
   "outputs": [],
   "source": [
    "def dias_mes(mes,anio):\n",
    "    if mes in (1,3,5,7,8,10,12):\n",
    "        return 31\n",
    "    elif mes in (4,6,9,11):\n",
    "        return 30\n",
    "    elif mes == 2:\n",
    "        if bisiesto(anio):\n",
    "            return 29\n",
    "        else:\n",
    "            return 28\n",
    "    else:\n",
    "        return -1"
   ]
  },
  {
   "cell_type": "code",
   "execution_count": null,
   "metadata": {
    "collapsed": false
   },
   "outputs": [],
   "source": [
    "print (dias_mes(1,2016),dias_mes(11,2016),dias_mes(2,2016),dias_mes(2,2017))"
   ]
  },
  {
   "cell_type": "markdown",
   "metadata": {},
   "source": [
    "c) Dada una fecha (dia, mes, año), indicar si es válida o no."
   ]
  },
  {
   "cell_type": "code",
   "execution_count": null,
   "metadata": {
    "collapsed": false
   },
   "outputs": [],
   "source": [
    "def validar_fecha(dia,mes,anio):\n",
    "    dm = dias_mes(mes,anio)\n",
    "    if dm = -1:\n",
    "        return -1\n",
    "    if dm < dia:\n",
    "        return False\n",
    "    elif mes > 12:\n",
    "        return False\n",
    "    else:\n",
    "        return True"
   ]
  },
  {
   "cell_type": "code",
   "execution_count": null,
   "metadata": {
    "collapsed": false
   },
   "outputs": [],
   "source": [
    "print(validar_fecha(29,2,2016),validar_fecha(29,2,2017),validar_fecha(3,13,2016),validar_fecha(5,6,1967))"
   ]
  },
  {
   "cell_type": "markdown",
   "metadata": {},
   "source": [
    "d) Dada una fecha, indicar los dias que faltan hasta fin de mes."
   ]
  },
  {
   "cell_type": "code",
   "execution_count": null,
   "metadata": {
    "collapsed": false
   },
   "outputs": [],
   "source": [
    "def dias_faltan(dia,mes,anio):\n",
    "    if validar_fecha(dia,mes,anio):\n",
    "        return dias_mes(mes,anio)-dia\n",
    "    else\n",
    "        return -1"
   ]
  },
  {
   "cell_type": "code",
   "execution_count": null,
   "metadata": {
    "collapsed": false
   },
   "outputs": [],
   "source": [
    "print(dias_faltan(1,1,2000))"
   ]
  },
  {
   "cell_type": "markdown",
   "metadata": {},
   "source": [
    "e) Dada una fecha, indicar los dias que faltan hasta fin de año."
   ]
  },
  {
   "cell_type": "code",
   "execution_count": null,
   "metadata": {
    "collapsed": false
   },
   "outputs": [],
   "source": [
    "def dias_fin(dia,mes,anio):\n",
    "    if validar_fecha(dia,mes,anio):\n",
    "        dias = 0\n",
    "        for m in range(mes+1,12+1):\n",
    "            dias += dias_mes(m,anio)\n",
    "        dias += dias_faltan(dia,mes,anio)\n",
    "        return dias\n",
    "    else:\n",
    "        return -1"
   ]
  },
  {
   "cell_type": "code",
   "execution_count": null,
   "metadata": {
    "collapsed": false
   },
   "outputs": [],
   "source": [
    "print(dias_fin_anio(31,12,2000), dias_fin_anio(30,11,2000), dias_fin_anio(1,1,2015),dias_fin_anio(1,1,2016))"
   ]
  },
  {
   "cell_type": "markdown",
   "metadata": {},
   "source": [
    "f) Dada una fecha, indicar la cantidad de dias transcurridos en ese año hasta esa fecha."
   ]
  },
  {
   "cell_type": "code",
   "execution_count": null,
   "metadata": {
    "collapsed": false
   },
   "outputs": [],
   "source": [
    "def dias_principio(dia,mes,anio):\n",
    "    if validar_fecha(dia,mes,anio):\n",
    "        if bisiesto(anio):\n",
    "            return 365 - dias_fin(dia,mes,anio)\n",
    "        else:\n",
    "            return 364 - dias_fin(dia,mes,anio)\n",
    "    else:\n",
    "        return -1"
   ]
  },
  {
   "cell_type": "code",
   "execution_count": null,
   "metadata": {
    "collapsed": false
   },
   "outputs": [],
   "source": [
    "print(dias_principio(31,12,2000),dias_principio(30,11,2000),dias_principio(1,1,2015),dias_principio(1,1,2016))"
   ]
  },
  {
   "cell_type": "markdown",
   "metadata": {},
   "source": [
    "g) Dadas dos fechas (dia1, mes1, año1, dia2, mes2, año2), indicar el tiempo transcurrido entre ambas, en años, meses y dias.\n",
    "Nota: en todos los casos, involucrar las funciones escritas previamente cuando sea posible."
   ]
  },
  {
   "cell_type": "code",
   "execution_count": null,
   "metadata": {
    "collapsed": false
   },
   "outputs": [],
   "source": [
    "def dias_transcurridos(dia1, mes1, anio1, dia2, mes2, anio2):\n",
    "    if anio1 == anio2:\n",
    "        total = -dias_principio(dia1,mes1,anio1)+dias_principio(dia2,mes2,anio2)\n",
    "    else:\n",
    "        total = dias_fin(dia1,mes1,anio1)+dias_principio(dia2,mes2,anio2)+1\n",
    "        for a in range(anio1+1,anio2):\n",
    "            if bisiesto(a):\n",
    "                total+=366\n",
    "            else:\n",
    "                total+=365\n",
    "    return total    "
   ]
  },
  {
   "cell_type": "code",
   "execution_count": null,
   "metadata": {
    "collapsed": false
   },
   "outputs": [],
   "source": [
    "print (dias_transcurridos(1,1,2001,31,12,2002))"
   ]
  },
  {
   "cell_type": "markdown",
   "metadata": {},
   "source": [
    "3.18. Suponiendo que el primer dia del año fue lunes, escribir una función que reciba un número con el dia del año (de 1 a 366) y devuelva el dia de la semana que le toca. Por ejemplo: si recibe 3 debe devolver miércoles, si recibe 9 debe devolver martes’."
   ]
  },
  {
   "cell_type": "code",
   "execution_count": null,
   "metadata": {
    "collapsed": false
   },
   "outputs": [],
   "source": [
    "def dia_semana(dia):\n",
    "    semana = dia % 7\n",
    "    if semana == 0:\n",
    "        return \"domingo\"\n",
    "    elif semana == 1:\n",
    "        return \"lunes\"\n",
    "    elif semana == 2:\n",
    "        return \"martes\"\n",
    "    elif semana == 3:\n",
    "        return \"miércoles\"\n",
    "    elif semana == 4:\n",
    "        return \"jueves\"\n",
    "    elif semana == 5:\n",
    "        return \"viernes\"\n",
    "    else:\n",
    "        return \"sabado\"  "
   ]
  },
  {
   "cell_type": "code",
   "execution_count": null,
   "metadata": {
    "collapsed": false
   },
   "outputs": [],
   "source": [
    "print(dia_semana(3), dia_semana(9), dia_semana(0))"
   ]
  },
  {
   "cell_type": "markdown",
   "metadata": {},
   "source": [
    "3.19. Escribir un programa que reciba como entrada un año escrito en números arábigos y muestre por pantalla el mismo año escrito en números romanos."
   ]
  },
  {
   "cell_type": "code",
   "execution_count": null,
   "metadata": {
    "collapsed": false
   },
   "outputs": [],
   "source": [
    "def romano(anio):\n",
    "    roma=\"\"\n",
    "    for i in range(anio//1000):\n",
    "        roma+=\"M\"\n",
    "    anio %=1000\n",
    "    d = anio // 100\n",
    "    anio %= 100\n",
    "    if d == 9:\n",
    "        roma+=\"CM\"\n",
    "    elif d >= 5:\n",
    "        roma+=\"D\"\n",
    "        for i in range(d-5):\n",
    "            roma+=\"C\"\n",
    "    elif d == 4:\n",
    "        roma+=\"CD\"\n",
    "    elif d <=3:\n",
    "        for i in range(d):\n",
    "            roma+=\"C\"\n",
    "    d = anio // 10\n",
    "    anio %= 10\n",
    "    if d == 9:\n",
    "        roma+=\"XC\"\n",
    "    elif d >= 5:\n",
    "        roma+=\"L\"\n",
    "        for i in range(d-5):\n",
    "            roma+=\"X\"\n",
    "    elif d == 4:\n",
    "        roma+=\"XL\"\n",
    "    elif d <=3:\n",
    "        for i in range(d):\n",
    "            roma+=\"X\"\n",
    "    d = anio\n",
    "    if d == 9:\n",
    "        roma+=\"IX\"\n",
    "    elif d >= 5:\n",
    "        roma+=\"V\"\n",
    "        for i in range(d-5):\n",
    "            roma+=\"I\"\n",
    "    elif d == 4:\n",
    "        roma+=\"IV\"\n",
    "    elif d <=3:\n",
    "        for i in range(d):\n",
    "            roma+=\"I\"\n",
    "    return roma"
   ]
  },
  {
   "cell_type": "code",
   "execution_count": null,
   "metadata": {
    "collapsed": false
   },
   "outputs": [],
   "source": [
    "print(romano(2016))"
   ]
  },
  {
   "cell_type": "markdown",
   "metadata": {},
   "source": [
    "3.20. Programa de astrologia: el usuario debe ingresar el dia y mes de su cumpleaños y el programa le debe decir a qué signo corresponde. Nota:\n",
    "\n",
    "Aries: 21 de marzo al 20 de abril.\n",
    "Tauro: 21 de abril al 20 de mayo.\n",
    "Geminis: 21 de mayo al 21 de junio.\n",
    "Cancer: 22 de junio al 23 de julio.\n",
    "Leo: 24 de julio al 23 de agosto.\n",
    "Virgo: 24 de agosto al 23 de septiembre.\n",
    "Libra: 24 de septiembre al 22 de octubre.\n",
    "Escorpio: 23 de octubre al 22 de noviembre.\n",
    "Sagitario: 23 de noviembre al 21 de diciembre.\n",
    "Capricornio: 22 de diciembre al 20 de enero.\n",
    "Acuario: 21 de enero al 19 de febrero.\n",
    "Piscis: 20 de febrero al 20 de marzo."
   ]
  },
  {
   "cell_type": "code",
   "execution_count": null,
   "metadata": {
    "collapsed": false
   },
   "outputs": [],
   "source": [
    "def astro(dia,mes):\n",
    "    if mes == 1:\n",
    "        if dia >= 21:\n",
    "            return \"Acuario\"\n",
    "        else:\n",
    "            return \"Capricornio\"\n",
    "    elif mes == 2:\n",
    "        if dia >= 20:\n",
    "            return \"Piscis\"\n",
    "        else:\n",
    "            return \"Acuario\"\n",
    "    elif mes == 3:\n",
    "        if dia >= 21:\n",
    "            return \"Aries\"\n",
    "        else:\n",
    "            return \"Piscis\"\n",
    "    elif mes == 4:\n",
    "        if dia >= 21:\n",
    "            return \"Tauro\"\n",
    "        else:\n",
    "            return \"Aries\"\n",
    "    elif mes == 5:\n",
    "        if dia >= 21:\n",
    "            return \"Géminis\"\n",
    "        else:\n",
    "            return \"Tauro\"\n",
    "    elif mes == 6:\n",
    "        if dia >= 22:\n",
    "            return \"Cáncer\"\n",
    "        else:\n",
    "            return \"Géminis\"\n",
    "    elif mes == 7:\n",
    "        if dia >= 24:\n",
    "            return \"Leo\"\n",
    "        else:\n",
    "            return \"Cáncer\"\n",
    "    elif mes == 8:\n",
    "        if dia >= 24:\n",
    "            return \"Virgo\"\n",
    "        else:\n",
    "            return \"Leo\"\n",
    "    elif mes == 9:\n",
    "        if dia >= 24:\n",
    "            return \"Libra\"\n",
    "        else:\n",
    "            return \"Virgo\"\n",
    "    elif mes == 10:\n",
    "        if dia >= 23:\n",
    "            return \"Escorpio\"\n",
    "        else:\n",
    "            return \"Libra\"\n",
    "    elif mes == 11:\n",
    "        if dia >= 23:\n",
    "            return \"Sagitario\"\n",
    "        else:\n",
    "            return \"Escorpio\"\n",
    "    elif mes == 12:\n",
    "        if dia >= 22:\n",
    "            return \"Capricornio\"\n",
    "        else:\n",
    "            return \"Sagitario\""
   ]
  },
  {
   "cell_type": "code",
   "execution_count": null,
   "metadata": {
    "collapsed": false
   },
   "outputs": [],
   "source": [
    "print (astro(5,6),astro(29,12),astro(23,2),astro(15,4),astro(29,5),astro(13,5))"
   ]
  }
 ],
 "metadata": {
  "anaconda-cloud": {},
  "celltoolbar": "Raw Cell Format",
  "kernelspec": {
   "display_name": "Python [conda root]",
   "language": "python",
   "name": "conda-root-py"
  },
  "language_info": {
   "codemirror_mode": {
    "name": "ipython",
    "version": 3
   },
   "file_extension": ".py",
   "mimetype": "text/x-python",
   "name": "python",
   "nbconvert_exporter": "python",
   "pygments_lexer": "ipython3",
   "version": "3.5.2"
  }
 },
 "nbformat": 4,
 "nbformat_minor": 1
}
