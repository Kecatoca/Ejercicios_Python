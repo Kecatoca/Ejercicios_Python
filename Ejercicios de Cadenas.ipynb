{
 "cells": [
  {
   "cell_type": "markdown",
   "metadata": {},
   "source": [
    "#Ejercicios de Cadenas"
   ]
  },
  {
   "cell_type": "markdown",
   "metadata": {},
   "source": [
    "Ejercicio 6.8.1. Escribir funciones que dada una cadena de caracteres:"
   ]
  },
  {
   "cell_type": "code",
   "execution_count": 71,
   "metadata": {
    "collapsed": true
   },
   "outputs": [],
   "source": [
    "cad = \"En un lugar de la Mancha de cuyo nombre no quiero acordarme\""
   ]
  },
  {
   "cell_type": "markdown",
   "metadata": {},
   "source": [
    "a) Imprima los dos primeros caracteres."
   ]
  },
  {
   "cell_type": "code",
   "execution_count": 1,
   "metadata": {
    "collapsed": true
   },
   "outputs": [],
   "source": [
    "def dos(cad):\n",
    "    print(cad[:2])"
   ]
  },
  {
   "cell_type": "code",
   "execution_count": 4,
   "metadata": {
    "collapsed": false
   },
   "outputs": [
    {
     "name": "stdout",
     "output_type": "stream",
     "text": [
      "En\n"
     ]
    }
   ],
   "source": [
    "dos(cad)"
   ]
  },
  {
   "cell_type": "markdown",
   "metadata": {},
   "source": [
    "b) Imprima los tres últimos caracteres."
   ]
  },
  {
   "cell_type": "code",
   "execution_count": 15,
   "metadata": {
    "collapsed": true
   },
   "outputs": [],
   "source": [
    "def tres(cad):\n",
    "    print(cad[-3:])"
   ]
  },
  {
   "cell_type": "code",
   "execution_count": 16,
   "metadata": {
    "collapsed": false
   },
   "outputs": [
    {
     "name": "stdout",
     "output_type": "stream",
     "text": [
      "...\n"
     ]
    }
   ],
   "source": [
    "tres(cad)"
   ]
  },
  {
   "cell_type": "markdown",
   "metadata": {},
   "source": [
    "c) Imprima dicha cadena cada dos caracteres. Ej.: recta debería imprimir rca"
   ]
  },
  {
   "cell_type": "code",
   "execution_count": 19,
   "metadata": {
    "collapsed": true
   },
   "outputs": [],
   "source": [
    "def cadaDos(cad):\n",
    "    cd = \"\"\n",
    "    for i in range(0,len(cad),2):\n",
    "        cd+=cad[i]\n",
    "    print(cd)"
   ]
  },
  {
   "cell_type": "code",
   "execution_count": 20,
   "metadata": {
    "collapsed": false
   },
   "outputs": [
    {
     "name": "stdout",
     "output_type": "stream",
     "text": [
      "E nlgrd aMnh ecy oben ueoaodre.\n"
     ]
    }
   ],
   "source": [
    "cadaDos(cad)"
   ]
  },
  {
   "cell_type": "markdown",
   "metadata": {},
   "source": [
    "d) Dicha cadena en sentido inverso. Ej.: hola mundo! debe imprimir !odnum aloh"
   ]
  },
  {
   "cell_type": "code",
   "execution_count": 25,
   "metadata": {
    "collapsed": true
   },
   "outputs": [],
   "source": [
    "def inversa(cad):\n",
    "    cd = \"\"\n",
    "    for i in range(len(cad)-1,-1,-1):\n",
    "        cd+=cad[i]\n",
    "    print(cd)"
   ]
  },
  {
   "cell_type": "code",
   "execution_count": 26,
   "metadata": {
    "collapsed": false
   },
   "outputs": [
    {
     "name": "stdout",
     "output_type": "stream",
     "text": [
      "...emradroca oreiuq on erbmon oyuc ed ahcnaM al ed ragul nu nE\n"
     ]
    }
   ],
   "source": [
    "inversa(cad)"
   ]
  },
  {
   "cell_type": "markdown",
   "metadata": {},
   "source": [
    "e) Imprima la cadena en un sentido y en sentido inverso. Ej: reflejo imprime reflejoojelfer."
   ]
  },
  {
   "cell_type": "code",
   "execution_count": 27,
   "metadata": {
    "collapsed": true
   },
   "outputs": [],
   "source": [
    "def reflejo(cad):\n",
    "    cd = cad\n",
    "    for i in range(len(cad)-1,-1,-1):\n",
    "        cd+=cad[i]\n",
    "    print(cd)"
   ]
  },
  {
   "cell_type": "code",
   "execution_count": 28,
   "metadata": {
    "collapsed": false
   },
   "outputs": [
    {
     "name": "stdout",
     "output_type": "stream",
     "text": [
      "En un lugar de la Mancha de cuyo nombre no quiero acordarme......emradroca oreiuq on erbmon oyuc ed ahcnaM al ed ragul nu nE\n"
     ]
    }
   ],
   "source": [
    "reflejo(cad)"
   ]
  },
  {
   "cell_type": "markdown",
   "metadata": {},
   "source": [
    "Ejercicio 6.8.2. Escribir funciones que dada una cadena y un caracter:"
   ]
  },
  {
   "cell_type": "markdown",
   "metadata": {},
   "source": [
    "a) Inserte el caracter entre cada letra de la cadena. Ej: separar y , debería devolver s,e,p,a,r,a,r"
   ]
  },
  {
   "cell_type": "code",
   "execution_count": 36,
   "metadata": {
    "collapsed": false
   },
   "outputs": [],
   "source": [
    "def separar(cad):\n",
    "    cd = \"\"\n",
    "    for i in range(len(cad)-1):\n",
    "        cd=cd+cad[i]+\",\"\n",
    "    cd+=cad[len(cad)-1]\n",
    "    return cd"
   ]
  },
  {
   "cell_type": "code",
   "execution_count": 37,
   "metadata": {
    "collapsed": false
   },
   "outputs": [
    {
     "name": "stdout",
     "output_type": "stream",
     "text": [
      "E,n, ,u,n, ,l,u,g,a,r, ,d,e, ,l,a, ,M,a,n,c,h,a, ,d,e, ,c,u,y,o, ,n,o,m,b,r,e, ,n,o, ,q,u,i,e,r,o, ,a,c,o,r,d,a,r,m,e,.,.,.\n"
     ]
    }
   ],
   "source": [
    "print(separar(cad))"
   ]
  },
  {
   "cell_type": "markdown",
   "metadata": {},
   "source": [
    "b) Reemplace todos los espacios por el caracter _. Ej: mi archivo de texto.txt y \\_ debería devolvermi\\_archivo\\_de\\_texto.txt"
   ]
  },
  {
   "cell_type": "code",
   "execution_count": 39,
   "metadata": {
    "collapsed": false
   },
   "outputs": [],
   "source": [
    "def cambiar(cad):\n",
    "    cd=\"\"\n",
    "    for i in range(len(cad)):\n",
    "        if cad[i]==\" \":\n",
    "            cd+=\"_\"\n",
    "        else:\n",
    "            cd+=cad[i]\n",
    "    return cd"
   ]
  },
  {
   "cell_type": "code",
   "execution_count": 40,
   "metadata": {
    "collapsed": false
   },
   "outputs": [
    {
     "name": "stdout",
     "output_type": "stream",
     "text": [
      "En_un_lugar_de_la_Mancha_de_cuyo_nombre_no_quiero_acordarme...\n"
     ]
    }
   ],
   "source": [
    "print(cambiar(cad))"
   ]
  },
  {
   "cell_type": "markdown",
   "metadata": {},
   "source": [
    "c) Reemplace todos los dígitos en la cadena por el caracter X. Ej: su clave es: 1540 y X debería devolver su clave es: XXXX"
   ]
  },
  {
   "cell_type": "code",
   "execution_count": 41,
   "metadata": {
    "collapsed": true
   },
   "outputs": [],
   "source": [
    "def cambiarX(cad):\n",
    "    cd=\"\"\n",
    "    digitos = (\"0\",\"1\",\"2\",\"3\",\"4\",\"5\",\"6\",\"7\",\"8\",\"9\")\n",
    "    for i in range(len(cad)):\n",
    "        if cad[i] in digitos:\n",
    "            cd+=\"X\"\n",
    "        else:\n",
    "            cd+=cad[i]\n",
    "    return cd"
   ]
  },
  {
   "cell_type": "code",
   "execution_count": 42,
   "metadata": {
    "collapsed": false
   },
   "outputs": [
    {
     "name": "stdout",
     "output_type": "stream",
     "text": [
      "su clave es: XXXX\n"
     ]
    }
   ],
   "source": [
    "print(cambiarX(\"su clave es: 1540\"))"
   ]
  },
  {
   "cell_type": "markdown",
   "metadata": {},
   "source": [
    "d) Inserte el caracter cada 3 dígitos en la cadena. Ej. 2552552550 y . debería devolver 255.255.255.0"
   ]
  },
  {
   "cell_type": "code",
   "execution_count": 76,
   "metadata": {
    "collapsed": false
   },
   "outputs": [],
   "source": [
    "def puntos(cad):\n",
    "    cd=\"\"\n",
    "    long=len(cad)\n",
    "    for i in range(0, long - (long % 3), 3):\n",
    "        cd=cd+cad[i:i+3]+\".\"\n",
    "    cd+=cad[-(long % 3):]\n",
    "    return cd"
   ]
  },
  {
   "cell_type": "code",
   "execution_count": 79,
   "metadata": {
    "collapsed": false
   },
   "outputs": [
    {
     "name": "stdout",
     "output_type": "stream",
     "text": [
      "255.255.255.0\n"
     ]
    }
   ],
   "source": [
    "print (puntos(\"2552552550\"))"
   ]
  },
  {
   "cell_type": "markdown",
   "metadata": {},
   "source": [
    "Ejercicio 6.8.3. Modificar las funciones anteriores, para que reciban un parámetro que indique la cantidad máxima de reemplazos o inserciones a realizar."
   ]
  },
  {
   "cell_type": "code",
   "execution_count": 82,
   "metadata": {
    "collapsed": false
   },
   "outputs": [
    {
     "ename": "NameError",
     "evalue": "name 'powershell' is not defined",
     "output_type": "error",
     "traceback": [
      "\u001b[0;31m---------------------------------------------------------------------------\u001b[0m",
      "\u001b[0;31mNameError\u001b[0m                                 Traceback (most recent call last)",
      "\u001b[0;32m<ipython-input-82-19f2551aa6a2>\u001b[0m in \u001b[0;36m<module>\u001b[0;34m()\u001b[0m\n\u001b[0;32m----> 1\u001b[0;31m \u001b[0mpowershell\u001b[0m\u001b[1;33m\u001b[0m\u001b[0m\n\u001b[0m",
      "\u001b[0;31mNameError\u001b[0m: name 'powershell' is not defined"
     ]
    }
   ],
   "source": []
  },
  {
   "cell_type": "markdown",
   "metadata": {},
   "source": [
    "Ejercicio 6.8.4. Escribir una función que reciba una cadena que contiene un largo número entero y devuelva una cadena con el número y las separaciones de miles. Por ejemplo, si recibe 1234567890, debe devolver 1.234.567.890."
   ]
  },
  {
   "cell_type": "markdown",
   "metadata": {},
   "source": [
    "Ejercicio 6.8.5. Escribir una función que dada una cadena de caracteres, devuelva:"
   ]
  },
  {
   "cell_type": "markdown",
   "metadata": {},
   "source": [
    "a) La primera letra de cada palabra. Por ejemplo, si recibe Universal Serial Bus debe devolver USB."
   ]
  },
  {
   "cell_type": "markdown",
   "metadata": {},
   "source": [
    "b) Dicha cadena con la primera letra de cada palabra en mayúsculas. Por ejemplo, si recibe república argentina debe devolver República Argentina."
   ]
  },
  {
   "cell_type": "markdown",
   "metadata": {},
   "source": [
    "c) Las palabras que comiencen con la letra A. Por ejemplo, si recibe Antes de ayer debe devolverAntes ayer."
   ]
  },
  {
   "cell_type": "markdown",
   "metadata": {},
   "source": [
    "Ejercicio 6.8.6. Escribir funciones que dada una cadena de caracteres:"
   ]
  },
  {
   "cell_type": "markdown",
   "metadata": {},
   "source": [
    "a) Devuelva solamente las letras consonantes. Por ejemplo, si recibe algoritmos o logaritmos debe devolver lgrtms."
   ]
  },
  {
   "cell_type": "markdown",
   "metadata": {},
   "source": [
    "b) Devuelva solamente las letras vocales. Por ejemplo, si recibe sin consonantes debe devolver i ooae."
   ]
  },
  {
   "cell_type": "markdown",
   "metadata": {},
   "source": [
    "c) Reemplace cada vocal por su siguiente vocal. Por ejemplo, si recibe vestuario debe devolvervistaerou."
   ]
  },
  {
   "cell_type": "markdown",
   "metadata": {},
   "source": [
    "d) Indique si se trata de un palíndromo. Por ejemplo, anita lava la tina es un palíndromo (se lee igual de izquierda a derecha que de derecha a izquierda)."
   ]
  },
  {
   "cell_type": "markdown",
   "metadata": {},
   "source": [
    "Ejercicio 6.8.7. Escribir funciones que dadas dos cadenas de caracteres:"
   ]
  },
  {
   "cell_type": "markdown",
   "metadata": {},
   "source": [
    "a) Indique si la segunda cadena es una subcadena de la primera. Por ejemplo, cadena es una subcadena de subcadena."
   ]
  },
  {
   "cell_type": "markdown",
   "metadata": {},
   "source": [
    "b) Devuelva la que sea anterior en orden alfábetico. Por ejemplo, si recibe kde y gnome debe devolvergnome."
   ]
  },
  {
   "cell_type": "markdown",
   "metadata": {},
   "source": [
    "Ejercicio 6.8.8. Escribir una función que reciba una cadena de unos y ceros (es decir, un número en representación binaria) y devuelva el valor decimal correspondiente."
   ]
  }
 ],
 "metadata": {
  "kernelspec": {
   "display_name": "Python [conda root]",
   "language": "python",
   "name": "conda-root-py"
  },
  "language_info": {
   "codemirror_mode": {
    "name": "ipython",
    "version": 3
   },
   "file_extension": ".py",
   "mimetype": "text/x-python",
   "name": "python",
   "nbconvert_exporter": "python",
   "pygments_lexer": "ipython3",
   "version": "3.5.2"
  }
 },
 "nbformat": 4,
 "nbformat_minor": 1
}
